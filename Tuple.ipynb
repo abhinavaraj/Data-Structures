{
 "cells": [
  {
   "cell_type": "code",
   "execution_count": 1,
   "id": "ac6258ab-24d6-418b-ac53-ace7963582ce",
   "metadata": {},
   "outputs": [
    {
     "data": {
      "text/plain": [
       "(1, 2, 3, 4)"
      ]
     },
     "execution_count": 1,
     "metadata": {},
     "output_type": "execute_result"
    }
   ],
   "source": [
    "#Creation of tuple\n",
    "a=(1,2,3,4)\n",
    "a"
   ]
  },
  {
   "cell_type": "code",
   "execution_count": 2,
   "id": "6d3862bd-5caf-4450-b3c9-b2a732644edd",
   "metadata": {},
   "outputs": [
    {
     "data": {
      "text/plain": [
       "tuple"
      ]
     },
     "execution_count": 2,
     "metadata": {},
     "output_type": "execute_result"
    }
   ],
   "source": [
    "#cheking class \n",
    "type (a)"
   ]
  },
  {
   "cell_type": "code",
   "execution_count": 3,
   "id": "4e542045-a1fc-4e1f-a836-1c0a9789ea85",
   "metadata": {},
   "outputs": [
    {
     "data": {
      "text/plain": [
       "('apple', 'orange', 'banana')"
      ]
     },
     "execution_count": 3,
     "metadata": {},
     "output_type": "execute_result"
    }
   ],
   "source": [
    "b=('apple','orange','banana')\n",
    "b"
   ]
  },
  {
   "cell_type": "code",
   "execution_count": 4,
   "id": "6b2c4768-cfe0-4db6-b265-6d642f715b15",
   "metadata": {},
   "outputs": [
    {
     "data": {
      "text/plain": [
       "tuple"
      ]
     },
     "execution_count": 4,
     "metadata": {},
     "output_type": "execute_result"
    }
   ],
   "source": [
    "#cheking the class\n",
    "type(b)"
   ]
  },
  {
   "cell_type": "code",
   "execution_count": 5,
   "id": "6e8f9c2b-809e-477f-8e22-32b3eeb4b48b",
   "metadata": {},
   "outputs": [
    {
     "data": {
      "text/plain": [
       "str"
      ]
     },
     "execution_count": 5,
     "metadata": {},
     "output_type": "execute_result"
    }
   ],
   "source": [
    "#string data type \n",
    "c=('a')\n",
    "type(c)"
   ]
  },
  {
   "cell_type": "code",
   "execution_count": 6,
   "id": "649134ac-f947-4cea-8564-2f6946ef6b78",
   "metadata": {},
   "outputs": [
    {
     "data": {
      "text/plain": [
       "tuple"
      ]
     },
     "execution_count": 6,
     "metadata": {},
     "output_type": "execute_result"
    }
   ],
   "source": [
    "#Tuple Datatype\n",
    "c=('a',)\n",
    "type(c)\n"
   ]
  },
  {
   "cell_type": "code",
   "execution_count": 7,
   "id": "0b63c58e-0db6-4a53-8ec0-9d11c20f1bc6",
   "metadata": {},
   "outputs": [
    {
     "data": {
      "text/plain": [
       "tuple"
      ]
     },
     "execution_count": 7,
     "metadata": {},
     "output_type": "execute_result"
    }
   ],
   "source": [
    "#Tuple with diffrent datatypes\n",
    "d=(2,'tom',True,99.9)\n",
    "d\n",
    "type(d)"
   ]
  },
  {
   "cell_type": "code",
   "execution_count": 8,
   "id": "36445566-6ed6-4e89-94f1-b4b00d2644c1",
   "metadata": {},
   "outputs": [
    {
     "data": {
      "text/plain": [
       "tuple"
      ]
     },
     "execution_count": 8,
     "metadata": {},
     "output_type": "execute_result"
    }
   ],
   "source": [
    "#Tuple with out parathesis\n",
    "e=1,2,3\n",
    "type(e)"
   ]
  },
  {
   "cell_type": "code",
   "execution_count": 9,
   "id": "c3826c7e-690a-4e79-ac5d-bda7fb49171f",
   "metadata": {},
   "outputs": [
    {
     "data": {
      "text/plain": [
       "(1, 2, 3, 4, 'apple', 'orange', 'banana')"
      ]
     },
     "execution_count": 9,
     "metadata": {},
     "output_type": "execute_result"
    }
   ],
   "source": [
    "#Merging two tuples \n",
    "t=a+b\n",
    "t"
   ]
  },
  {
   "cell_type": "code",
   "execution_count": 10,
   "id": "4ca9b1f8-3f7d-42f0-8739-ed35be85573b",
   "metadata": {},
   "outputs": [
    {
     "data": {
      "text/plain": [
       "('a', 'a', 'a')"
      ]
     },
     "execution_count": 10,
     "metadata": {},
     "output_type": "execute_result"
    }
   ],
   "source": [
    "#Multiplying a tuple\n",
    "t1=c*3\n",
    "t1\n"
   ]
  },
  {
   "cell_type": "code",
   "execution_count": 11,
   "id": "b5191aa7-89fb-4180-8594-f8c2a3599642",
   "metadata": {},
   "outputs": [
    {
     "data": {
      "text/plain": [
       "tuple"
      ]
     },
     "execution_count": 11,
     "metadata": {},
     "output_type": "execute_result"
    }
   ],
   "source": [
    "#cheking class\n",
    "type(t1)"
   ]
  },
  {
   "cell_type": "code",
   "execution_count": 12,
   "id": "8702aeb6-29df-432b-8692-6d4b2a36480f",
   "metadata": {},
   "outputs": [
    {
     "data": {
      "text/plain": [
       "('h', 'e', 'l', 'l', 'o')"
      ]
     },
     "execution_count": 12,
     "metadata": {},
     "output_type": "execute_result"
    }
   ],
   "source": [
    "#Another way to create a tuple (string)\n",
    "t2=tuple('hello')\n",
    "t2"
   ]
  },
  {
   "cell_type": "code",
   "execution_count": 13,
   "id": "17ad80ff-74d8-4b15-8e4f-4eb2d2974b70",
   "metadata": {},
   "outputs": [
    {
     "data": {
      "text/plain": [
       "tuple"
      ]
     },
     "execution_count": 13,
     "metadata": {},
     "output_type": "execute_result"
    }
   ],
   "source": [
    "#Cheking class\n",
    "type (t2)"
   ]
  },
  {
   "cell_type": "code",
   "execution_count": 14,
   "id": "33c8893a-c2b1-4be1-8d45-36c69f780d4c",
   "metadata": {},
   "outputs": [
    {
     "data": {
      "text/plain": [
       "('o', 'l', 'l', 'e', 'h')"
      ]
     },
     "execution_count": 14,
     "metadata": {},
     "output_type": "execute_result"
    }
   ],
   "source": [
    "#Reversing  a tuple \n",
    "t2[::-1]"
   ]
  },
  {
   "cell_type": "code",
   "execution_count": 15,
   "id": "8c70f442-baa1-4551-80ee-ff47dd743309",
   "metadata": {},
   "outputs": [
    {
     "data": {
      "text/plain": [
       "'e'"
      ]
     },
     "execution_count": 15,
     "metadata": {},
     "output_type": "execute_result"
    }
   ],
   "source": [
    "#Indexing \n",
    "t2[1]"
   ]
  },
  {
   "cell_type": "code",
   "execution_count": 16,
   "id": "1b87e684-98b1-4ace-b2e9-5f24afb20dcf",
   "metadata": {},
   "outputs": [],
   "source": [
    "#Unpacking a tuple\n",
    "a,b,c,d,e=t2"
   ]
  },
  {
   "cell_type": "code",
   "execution_count": 17,
   "id": "09423eb3-c980-448a-a852-96b6bbc2c306",
   "metadata": {},
   "outputs": [
    {
     "data": {
      "text/plain": [
       "'h'"
      ]
     },
     "execution_count": 17,
     "metadata": {},
     "output_type": "execute_result"
    }
   ],
   "source": [
    "#calling a unpacked tuple\n",
    "a"
   ]
  },
  {
   "cell_type": "code",
   "execution_count": 18,
   "id": "b8737e0d-3c92-4690-bf32-9050b2aa35e1",
   "metadata": {},
   "outputs": [
    {
     "data": {
      "text/plain": [
       "5"
      ]
     },
     "execution_count": 18,
     "metadata": {},
     "output_type": "execute_result"
    }
   ],
   "source": [
    "#length of tuple\n",
    "len(t2)"
   ]
  },
  {
   "cell_type": "code",
   "execution_count": 19,
   "id": "c15a01f2-bfbb-4246-b7a8-5687966a716f",
   "metadata": {},
   "outputs": [],
   "source": [
    "#Deletion of tuple\n",
    "del t2"
   ]
  },
  {
   "cell_type": "code",
   "execution_count": null,
   "id": "7fe2f1a2-aba0-4bfc-88f5-1ae155a9fbf2",
   "metadata": {},
   "outputs": [],
   "source": []
  }
 ],
 "metadata": {
  "kernelspec": {
   "display_name": "Python [conda env:base] *",
   "language": "python",
   "name": "conda-base-py"
  },
  "language_info": {
   "codemirror_mode": {
    "name": "ipython",
    "version": 3
   },
   "file_extension": ".py",
   "mimetype": "text/x-python",
   "name": "python",
   "nbconvert_exporter": "python",
   "pygments_lexer": "ipython3",
   "version": "3.13.5"
  }
 },
 "nbformat": 4,
 "nbformat_minor": 5
}

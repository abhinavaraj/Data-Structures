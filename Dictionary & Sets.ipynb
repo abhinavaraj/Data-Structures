{
 "cells": [
  {
   "cell_type": "code",
   "execution_count": 1,
   "id": "8282f40b-fc21-4e0e-a1ed-815d76fcd773",
   "metadata": {},
   "outputs": [
    {
     "data": {
      "text/plain": [
       "dict"
      ]
     },
     "execution_count": 1,
     "metadata": {},
     "output_type": "execute_result"
    }
   ],
   "source": [
    "#creating an empty dict and checking its type\n",
    "d1={}\n",
    "type(d1)"
   ]
  },
  {
   "cell_type": "code",
   "execution_count": 2,
   "id": "98ac1fdc-21bf-4c1e-951b-a0d06592225f",
   "metadata": {},
   "outputs": [
    {
     "data": {
      "text/plain": [
       "({'Name': 'Abhinava', 'Age': 18, 'City': 'Idukki'}, dict)"
      ]
     },
     "execution_count": 2,
     "metadata": {},
     "output_type": "execute_result"
    }
   ],
   "source": [
    "d2={'Name':'Abhinava','Age':18,'City':'Idukki'}\n",
    "d2,type(d2)\n"
   ]
  },
  {
   "cell_type": "code",
   "execution_count": 3,
   "id": "ebb10e1b-1e34-4ff5-9ffb-227450ab000e",
   "metadata": {},
   "outputs": [
    {
     "data": {
      "text/plain": [
       "{'Name': 'Abhinava', 'Age': 18, 'City': 'Idukki', 'ph no': '9876543210'}"
      ]
     },
     "execution_count": 3,
     "metadata": {},
     "output_type": "execute_result"
    }
   ],
   "source": [
    "#Adding quotes if number exceeds 9 digits(BIGINT)\n",
    "person={'Name':'Abhinava','Age':18,'City':'Idukki','ph no':'9876543210'}\n",
    "person\n"
   ]
  },
  {
   "cell_type": "code",
   "execution_count": 4,
   "id": "041a6314-9efa-4935-9d31-cc39adadd4af",
   "metadata": {},
   "outputs": [],
   "source": [
    "#Added a new key value pair\n",
    "person['salary']=101010"
   ]
  },
  {
   "cell_type": "raw",
   "id": "eaaf5924-1a8e-4b2c-a87c-ceab7fec9c1a",
   "metadata": {},
   "source": [
    "person"
   ]
  },
  {
   "cell_type": "code",
   "execution_count": 6,
   "id": "ce4fc7e2-ba52-4942-ba6e-4ce4b5790c09",
   "metadata": {},
   "outputs": [],
   "source": [
    "#key are unique\n",
    "person['Name']='Anu'"
   ]
  },
  {
   "cell_type": "code",
   "execution_count": 28,
   "id": "1194a5b3-0007-4604-a699-f609f3d484de",
   "metadata": {},
   "outputs": [
    {
     "data": {
      "text/plain": [
       "{'Name': 'Anu',\n",
       " 'Age': 18,\n",
       " 'City': 'Idukki',\n",
       " 'ph no': '9876543210',\n",
       " 'Salary': 101010}"
      ]
     },
     "execution_count": 28,
     "metadata": {},
     "output_type": "execute_result"
    }
   ],
   "source": [
    "person"
   ]
  },
  {
   "cell_type": "markdown",
   "id": "1a2d7ad8-6ee6-4aef-9261-b5aa1e60f2d4",
   "metadata": {},
   "source": [
    "person"
   ]
  },
  {
   "cell_type": "code",
   "execution_count": 8,
   "id": "6f77f81c-aa19-43df-823c-65157cf224a5",
   "metadata": {},
   "outputs": [],
   "source": [
    "#Deleting of an element \n",
    "del person ['Name']"
   ]
  },
  {
   "cell_type": "raw",
   "id": "b6a652a5-c889-4ec7-843b-54457baabab9",
   "metadata": {},
   "source": [
    "person"
   ]
  },
  {
   "cell_type": "code",
   "execution_count": 9,
   "id": "4c0991b2-a1b6-4e34-9f7d-011b79bbca5d",
   "metadata": {},
   "outputs": [],
   "source": [
    "person={'Name': 'Anu',\n",
    " 'Age': 18,\n",
    " 'City': 'Idukki',\n",
    " 'ph no': '9876543210',\n",
    " 'Salary': 101010,}"
   ]
  },
  {
   "cell_type": "code",
   "execution_count": 10,
   "id": "cb6b9035-1fb6-429a-be15-28a4da149ef0",
   "metadata": {},
   "outputs": [
    {
     "data": {
      "text/plain": [
       "'Anu'"
      ]
     },
     "execution_count": 10,
     "metadata": {},
     "output_type": "execute_result"
    }
   ],
   "source": [
    "#Accessing a value via key\n",
    "person['Name']"
   ]
  },
  {
   "cell_type": "code",
   "execution_count": 11,
   "id": "6e920857-d97d-48a3-b22e-460bb0244ef0",
   "metadata": {},
   "outputs": [
    {
     "data": {
      "text/plain": [
       "5"
      ]
     },
     "execution_count": 11,
     "metadata": {},
     "output_type": "execute_result"
    }
   ],
   "source": [
    "#length of a dictionary\n",
    "len(person)"
   ]
  },
  {
   "cell_type": "code",
   "execution_count": 12,
   "id": "39e1260b-02ae-4b04-b44e-92ed070a6951",
   "metadata": {},
   "outputs": [
    {
     "data": {
      "text/plain": [
       "dict_keys(['Name', 'Age', 'City', 'ph no', 'Salary'])"
      ]
     },
     "execution_count": 12,
     "metadata": {},
     "output_type": "execute_result"
    }
   ],
   "source": [
    "#Accessing keys\n",
    "person.keys()"
   ]
  },
  {
   "cell_type": "code",
   "execution_count": 13,
   "id": "c6e8484a-9697-4c0c-a2c2-7dec8638d197",
   "metadata": {},
   "outputs": [
    {
     "data": {
      "text/plain": [
       "dict_values(['Anu', 18, 'Idukki', '9876543210', 101010])"
      ]
     },
     "execution_count": 13,
     "metadata": {},
     "output_type": "execute_result"
    }
   ],
   "source": [
    "#Accessing keys\n",
    "person.values()"
   ]
  },
  {
   "cell_type": "code",
   "execution_count": 14,
   "id": "83fa399c-9350-49c2-90d7-4ad492a9b58e",
   "metadata": {},
   "outputs": [
    {
     "data": {
      "text/plain": [
       "dict_items([('Name', 'Anu'), ('Age', 18), ('City', 'Idukki'), ('ph no', '9876543210'), ('Salary', 101010)])"
      ]
     },
     "execution_count": 14,
     "metadata": {},
     "output_type": "execute_result"
    }
   ],
   "source": [
    "#To display all the items \n",
    "person.items()"
   ]
  },
  {
   "cell_type": "code",
   "execution_count": 15,
   "id": "4e41bd24-0ed4-4272-8456-e0b9556ceaf6",
   "metadata": {},
   "outputs": [
    {
     "data": {
      "text/plain": [
       "{1, 2, 3, 4, 5, 6}"
      ]
     },
     "execution_count": 15,
     "metadata": {},
     "output_type": "execute_result"
    }
   ],
   "source": [
    "#creating a set\n",
    "s1={1,2,3,4,5,1,6}\n",
    "s1"
   ]
  },
  {
   "cell_type": "code",
   "execution_count": 16,
   "id": "eba3077e-1bc8-4dff-9d85-805a3242bc1e",
   "metadata": {},
   "outputs": [
    {
     "data": {
      "text/plain": [
       "set"
      ]
     },
     "execution_count": 16,
     "metadata": {},
     "output_type": "execute_result"
    }
   ],
   "source": [
    "#Chekimg the type \n",
    "type(s1)"
   ]
  },
  {
   "cell_type": "code",
   "execution_count": 17,
   "id": "32763d25-1fe6-465c-be0c-85ae70b75679",
   "metadata": {},
   "outputs": [
    {
     "data": {
      "text/plain": [
       "{1, 2, 4, 5, 6, 7, 8, 9}"
      ]
     },
     "execution_count": 17,
     "metadata": {},
     "output_type": "execute_result"
    }
   ],
   "source": [
    "#Another way to create set \n",
    "s2=set([1,2,6,7,8,9,5,4,5,2,1,6])\n",
    "s2"
   ]
  },
  {
   "cell_type": "code",
   "execution_count": 18,
   "id": "7074b6fb-60b8-48ae-b9a6-f8d8d0b29c0c",
   "metadata": {},
   "outputs": [],
   "source": [
    "#Adding an element\n",
    "s1.add(9)"
   ]
  },
  {
   "cell_type": "code",
   "execution_count": 19,
   "id": "1ac14f3e-bf1f-4621-8e14-ac9a811afcb6",
   "metadata": {},
   "outputs": [
    {
     "data": {
      "text/plain": [
       "{1, 2, 3, 4, 5, 6, 9}"
      ]
     },
     "execution_count": 19,
     "metadata": {},
     "output_type": "execute_result"
    }
   ],
   "source": [
    "s1"
   ]
  },
  {
   "cell_type": "code",
   "execution_count": 20,
   "id": "e658e2b8-a875-4e07-b7a5-425fdcbdb8a1",
   "metadata": {},
   "outputs": [],
   "source": [
    "#Removing an element\n",
    "s1.remove(2)\n"
   ]
  },
  {
   "cell_type": "code",
   "execution_count": 21,
   "id": "ddcfd197-dac4-4fa9-9cfa-9da5e3b99b2f",
   "metadata": {},
   "outputs": [
    {
     "data": {
      "text/plain": [
       "{1, 3, 4, 5, 6, 9}"
      ]
     },
     "execution_count": 21,
     "metadata": {},
     "output_type": "execute_result"
    }
   ],
   "source": [
    "s1"
   ]
  },
  {
   "cell_type": "code",
   "execution_count": 22,
   "id": "ad1fec08-3699-412b-865d-893f323e2320",
   "metadata": {},
   "outputs": [
    {
     "data": {
      "text/plain": [
       "set()"
      ]
     },
     "execution_count": 22,
     "metadata": {},
     "output_type": "execute_result"
    }
   ],
   "source": [
    "#Emptying set \n",
    "s1.clear()\n",
    "s1"
   ]
  },
  {
   "cell_type": "code",
   "execution_count": 23,
   "id": "8464c11a-61df-43f9-8598-90d9287844e8",
   "metadata": {},
   "outputs": [
    {
     "data": {
      "text/plain": [
       "8"
      ]
     },
     "execution_count": 23,
     "metadata": {},
     "output_type": "execute_result"
    }
   ],
   "source": [
    "#legnth of a set \n",
    "len (s2)"
   ]
  },
  {
   "cell_type": "code",
   "execution_count": 24,
   "id": "9718a85d-1262-4231-8d1d-6f4e91ac6bd3",
   "metadata": {},
   "outputs": [
    {
     "data": {
      "text/plain": [
       "{0, 1, 2, 3, 4, 5, 6, 7, 8, 9, 11, 13}"
      ]
     },
     "execution_count": 24,
     "metadata": {},
     "output_type": "execute_result"
    }
   ],
   "source": [
    "#Union Operation (All the common elements in both sets)\n",
    "s3={1,1,2,3,5,4,6,7,8,9,0}\n",
    "s4={1,3,5,7,11,13}\n",
    "s3|s4 #or s3.union(s4)"
   ]
  },
  {
   "cell_type": "code",
   "execution_count": 25,
   "id": "21d0e4ac-7dae-4a3e-90db-39787b2b2c4e",
   "metadata": {},
   "outputs": [
    {
     "data": {
      "text/plain": [
       "{1, 3, 5, 7}"
      ]
     },
     "execution_count": 25,
     "metadata": {},
     "output_type": "execute_result"
    }
   ],
   "source": [
    "#Intersection operation (Displays only the common elements\n",
    "s3&s4 #or s3.intersection"
   ]
  },
  {
   "cell_type": "code",
   "execution_count": 26,
   "id": "772a216f-9d95-4f1f-b9b2-c68d1493b228",
   "metadata": {},
   "outputs": [
    {
     "data": {
      "text/plain": [
       "{0, 2, 4, 6, 8, 9}"
      ]
     },
     "execution_count": 26,
     "metadata": {},
     "output_type": "execute_result"
    }
   ],
   "source": [
    "#Difference operation \n",
    "s3-s4"
   ]
  },
  {
   "cell_type": "markdown",
   "id": "a4c27d71-a641-4099-98d2-7a516e9e0db6",
   "metadata": {},
   "source": [
    "s4-s3"
   ]
  },
  {
   "cell_type": "code",
   "execution_count": 27,
   "id": "2a66c596-4677-4da7-b446-f368c81e3121",
   "metadata": {},
   "outputs": [
    {
     "data": {
      "text/plain": [
       "{11, 13}"
      ]
     },
     "execution_count": 27,
     "metadata": {},
     "output_type": "execute_result"
    }
   ],
   "source": [
    "{11,13}"
   ]
  },
  {
   "cell_type": "code",
   "execution_count": null,
   "id": "aa0dc8ac-ac97-4144-a018-b9312c8245b2",
   "metadata": {},
   "outputs": [],
   "source": []
  }
 ],
 "metadata": {
  "kernelspec": {
   "display_name": "Python [conda env:base] *",
   "language": "python",
   "name": "conda-base-py"
  },
  "language_info": {
   "codemirror_mode": {
    "name": "ipython",
    "version": 3
   },
   "file_extension": ".py",
   "mimetype": "text/x-python",
   "name": "python",
   "nbconvert_exporter": "python",
   "pygments_lexer": "ipython3",
   "version": "3.13.5"
  }
 },
 "nbformat": 4,
 "nbformat_minor": 5
}

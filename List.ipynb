{
 "cells": [
  {
   "cell_type": "code",
   "execution_count": 1,
   "id": "30ffccd2-6d5b-422c-ae2b-d07337b18c00",
   "metadata": {},
   "outputs": [
    {
     "name": "stdout",
     "output_type": "stream",
     "text": [
      "hello wrld\n"
     ]
    }
   ],
   "source": [
    "print('hello wrld')"
   ]
  },
  {
   "cell_type": "code",
   "execution_count": 2,
   "id": "6c6deae8-55c2-48f7-a911-629d0516f49b",
   "metadata": {},
   "outputs": [
    {
     "data": {
      "text/plain": [
       "[1, 2, 3, 4]"
      ]
     },
     "execution_count": 2,
     "metadata": {},
     "output_type": "execute_result"
    }
   ],
   "source": [
    "a=[1,2,3,4]\n",
    "a"
   ]
  },
  {
   "cell_type": "code",
   "execution_count": 3,
   "id": "f34e0b91-9bc0-457c-ba94-f9c5f940ee6d",
   "metadata": {},
   "outputs": [
    {
     "name": "stdout",
     "output_type": "stream",
     "text": [
      "<class 'list'>\n"
     ]
    }
   ],
   "source": [
    "print(type(a))"
   ]
  },
  {
   "cell_type": "code",
   "execution_count": 4,
   "id": "9cecafd3-927b-42a9-b6c6-ac0d154e49d6",
   "metadata": {},
   "outputs": [
    {
     "data": {
      "text/plain": [
       "[25, 'Hello World', True, 15.6]"
      ]
     },
     "execution_count": 4,
     "metadata": {},
     "output_type": "execute_result"
    }
   ],
   "source": [
    "b=[25,'Hello World',True,15.6]\n",
    "b"
   ]
  },
  {
   "cell_type": "code",
   "execution_count": 5,
   "id": "d7dc969e-48db-45da-90a4-5ecc116b2f37",
   "metadata": {},
   "outputs": [
    {
     "data": {
      "text/plain": [
       "list"
      ]
     },
     "execution_count": 5,
     "metadata": {},
     "output_type": "execute_result"
    }
   ],
   "source": [
    "type(b)"
   ]
  },
  {
   "cell_type": "code",
   "execution_count": 6,
   "id": "f8197a1b-cad0-4940-9300-a36b3d84212f",
   "metadata": {},
   "outputs": [
    {
     "data": {
      "text/plain": [
       "['Apple', 'Banana', 'Orange', 'Mango']"
      ]
     },
     "execution_count": 6,
     "metadata": {},
     "output_type": "execute_result"
    }
   ],
   "source": [
    "c=['Apple','Banana','Orange','Mango']\n",
    "c"
   ]
  },
  {
   "cell_type": "code",
   "execution_count": 7,
   "id": "b6fb8eb1-1313-4dd7-89d8-726d54a8eed7",
   "metadata": {},
   "outputs": [
    {
     "data": {
      "text/plain": [
       "[1.1, 2.2, 3.3, 4.4, 5.5]"
      ]
     },
     "execution_count": 7,
     "metadata": {},
     "output_type": "execute_result"
    }
   ],
   "source": [
    "d=[1.1,2.2,3.3,4.4,5.5]\n",
    "d"
   ]
  },
  {
   "cell_type": "code",
   "execution_count": 8,
   "id": "0c30cefa-7389-4a0d-9fa9-164a7a3faf6f",
   "metadata": {},
   "outputs": [
    {
     "data": {
      "text/plain": [
       "list"
      ]
     },
     "execution_count": 8,
     "metadata": {},
     "output_type": "execute_result"
    }
   ],
   "source": [
    "type(d)"
   ]
  },
  {
   "cell_type": "code",
   "execution_count": 9,
   "id": "a2022397-7b60-4946-b160-05c573eb8c05",
   "metadata": {},
   "outputs": [
    {
     "data": {
      "text/plain": [
       "list"
      ]
     },
     "execution_count": 9,
     "metadata": {},
     "output_type": "execute_result"
    }
   ],
   "source": [
    "e=[True,False]\n",
    "e\n",
    "type(e)"
   ]
  },
  {
   "cell_type": "code",
   "execution_count": 10,
   "id": "b2468a3b-ea8f-474f-a10b-0380b43d4038",
   "metadata": {},
   "outputs": [
    {
     "name": "stdout",
     "output_type": "stream",
     "text": [
      "<class 'list'>\n"
     ]
    },
    {
     "data": {
      "text/plain": [
       "[1, 'orange', 25.5, True, 'Apple', 'list', 56, 'Hello World', 2, 10.0]"
      ]
     },
     "execution_count": 10,
     "metadata": {},
     "output_type": "execute_result"
    }
   ],
   "source": [
    "#List creation\n",
    "L1=[1,'orange',25.5,True,'Apple','list',56,\"Hello World\",2,10.0]\n",
    "print(type(L1))\n",
    "L1"
   ]
  },
  {
   "cell_type": "code",
   "execution_count": 11,
   "id": "bd15179b-c6e3-45db-907b-e25687c0fde9",
   "metadata": {},
   "outputs": [
    {
     "data": {
      "text/plain": [
       "10"
      ]
     },
     "execution_count": 11,
     "metadata": {},
     "output_type": "execute_result"
    }
   ],
   "source": [
    "#Length of a list\n",
    "len(L1)"
   ]
  },
  {
   "cell_type": "code",
   "execution_count": 12,
   "id": "fed0960c-77f9-4fef-9c01-5a62ad3f8b21",
   "metadata": {},
   "outputs": [
    {
     "data": {
      "text/plain": [
       "1"
      ]
     },
     "execution_count": 12,
     "metadata": {},
     "output_type": "execute_result"
    }
   ],
   "source": [
    "#Indexing of a list\n",
    "L1[0]"
   ]
  },
  {
   "cell_type": "code",
   "execution_count": 13,
   "id": "327e7920-1ebf-43af-8753-58b15ad8cbbb",
   "metadata": {},
   "outputs": [
    {
     "data": {
      "text/plain": [
       "[10.0, 2, 'Hello World', 56, 'list', 'Apple', True, 25.5, 'orange', 1]"
      ]
     },
     "execution_count": 13,
     "metadata": {},
     "output_type": "execute_result"
    }
   ],
   "source": [
    "#Reversing a List\n",
    "L1[::-1]"
   ]
  },
  {
   "cell_type": "code",
   "execution_count": 14,
   "id": "d7ee99d0-734a-40cc-acf1-1b24fd883cd0",
   "metadata": {},
   "outputs": [
    {
     "data": {
      "text/plain": [
       "10.0"
      ]
     },
     "execution_count": 14,
     "metadata": {},
     "output_type": "execute_result"
    }
   ],
   "source": [
    "#Last number of a List\n",
    "L1[-1]"
   ]
  },
  {
   "cell_type": "code",
   "execution_count": 15,
   "id": "811e0939-6f60-4e9b-919b-b9c18c28d375",
   "metadata": {},
   "outputs": [
    {
     "data": {
      "text/plain": [
       "[25.5, True, 'Apple', 'list']"
      ]
     },
     "execution_count": 15,
     "metadata": {},
     "output_type": "execute_result"
    }
   ],
   "source": [
    "#Slicing\n",
    "L1[2:6]"
   ]
  },
  {
   "cell_type": "code",
   "execution_count": 16,
   "id": "9438741d-46c3-40d7-8456-c3dc8f49ea71",
   "metadata": {},
   "outputs": [],
   "source": [
    "#Appending a list\n",
    "L1.insert(0,8)"
   ]
  },
  {
   "cell_type": "code",
   "execution_count": 17,
   "id": "85b37147-62c6-495b-9796-bb32cfed77ac",
   "metadata": {},
   "outputs": [
    {
     "data": {
      "text/plain": [
       "[8, 1, 'orange', 25.5, True, 'Apple', 'list', 56, 'Hello World', 2, 10.0]"
      ]
     },
     "execution_count": 17,
     "metadata": {},
     "output_type": "execute_result"
    }
   ],
   "source": [
    "L1"
   ]
  },
  {
   "cell_type": "code",
   "execution_count": 18,
   "id": "b5814f24-e774-487b-a5f1-2c9167acc97e",
   "metadata": {},
   "outputs": [
    {
     "data": {
      "text/plain": [
       "[8, 1, 'orange', 25.5, True, 12, 'Apple', 'list', 56, 'Hello World', 2, 10.0]"
      ]
     },
     "execution_count": 18,
     "metadata": {},
     "output_type": "execute_result"
    }
   ],
   "source": [
    "L1.insert(5,12)\n",
    "L1"
   ]
  },
  {
   "cell_type": "code",
   "execution_count": 19,
   "id": "5fe09f38-6c08-4aa1-bee6-c82080bb5be7",
   "metadata": {},
   "outputs": [
    {
     "data": {
      "text/plain": [
       "list"
      ]
     },
     "execution_count": 19,
     "metadata": {},
     "output_type": "execute_result"
    }
   ],
   "source": [
    "type(L1)"
   ]
  },
  {
   "cell_type": "code",
   "execution_count": 20,
   "id": "195b86c1-834f-461b-a673-cc39fc3dc090",
   "metadata": {},
   "outputs": [
    {
     "data": {
      "text/plain": [
       "[8, 1, 'orange', 25.5, True, 'Apple', 'list', 56, 'Hello World', 2, 10.0]"
      ]
     },
     "execution_count": 20,
     "metadata": {},
     "output_type": "execute_result"
    }
   ],
   "source": [
    "#Deleting of elements in a list\n",
    "L1.remove(12)\n",
    "L1"
   ]
  },
  {
   "cell_type": "code",
   "execution_count": 21,
   "id": "1b9bda43-2236-4a55-b9c7-db6716488959",
   "metadata": {},
   "outputs": [
    {
     "data": {
      "text/plain": [
       "[8, 1, 'orange', 25.5, True, 'Apple', 'list', 56, 'Hello World', 2, 10.0, 6]"
      ]
     },
     "execution_count": 21,
     "metadata": {},
     "output_type": "execute_result"
    }
   ],
   "source": [
    "L1.append(6)\n",
    "L1"
   ]
  },
  {
   "cell_type": "code",
   "execution_count": 22,
   "id": "294bf0b0-57a3-4ed3-8f98-bf7ba26ac31a",
   "metadata": {},
   "outputs": [],
   "source": [
    "#Deleting of specific value using del function \n",
    "del L1[1]"
   ]
  },
  {
   "cell_type": "code",
   "execution_count": 23,
   "id": "1628d1e0-f163-4c0a-bab5-bf9a1977b90e",
   "metadata": {},
   "outputs": [
    {
     "data": {
      "text/plain": [
       "[8, 'orange', 25.5, True, 'Apple', 'list', 56, 'Hello World', 2, 10.0, 6]"
      ]
     },
     "execution_count": 23,
     "metadata": {},
     "output_type": "execute_result"
    }
   ],
   "source": [
    "L1"
   ]
  },
  {
   "cell_type": "code",
   "execution_count": null,
   "id": "83d7a92f-ead2-45f5-a102-70992a5c4c39",
   "metadata": {},
   "outputs": [],
   "source": []
  }
 ],
 "metadata": {
  "kernelspec": {
   "display_name": "Python [conda env:base] *",
   "language": "python",
   "name": "conda-base-py"
  },
  "language_info": {
   "codemirror_mode": {
    "name": "ipython",
    "version": 3
   },
   "file_extension": ".py",
   "mimetype": "text/x-python",
   "name": "python",
   "nbconvert_exporter": "python",
   "pygments_lexer": "ipython3",
   "version": "3.13.5"
  }
 },
 "nbformat": 4,
 "nbformat_minor": 5
}

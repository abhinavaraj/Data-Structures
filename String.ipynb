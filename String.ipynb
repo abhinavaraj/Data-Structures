{
 "cells": [
  {
   "cell_type": "code",
   "execution_count": 1,
   "id": "24b8a6ae-f7b0-430a-a2b2-accb8670a358",
   "metadata": {},
   "outputs": [],
   "source": [
    "#String with single quotes\n",
    "s1='Hello'"
   ]
  },
  {
   "cell_type": "code",
   "execution_count": 2,
   "id": "945eb5d0-a613-4ec2-9876-ca0d90933a1e",
   "metadata": {},
   "outputs": [
    {
     "data": {
      "text/plain": [
       "str"
      ]
     },
     "execution_count": 2,
     "metadata": {},
     "output_type": "execute_result"
    }
   ],
   "source": [
    "#Checking the type\n",
    "type(s1)"
   ]
  },
  {
   "cell_type": "code",
   "execution_count": 3,
   "id": "484f05f8-182b-47bf-ad76-f4e832730c1e",
   "metadata": {},
   "outputs": [
    {
     "data": {
      "text/plain": [
       "str"
      ]
     },
     "execution_count": 3,
     "metadata": {},
     "output_type": "execute_result"
    }
   ],
   "source": [
    "#String with double quotes\n",
    "s2=\"World\"\n",
    "type(s2)"
   ]
  },
  {
   "cell_type": "code",
   "execution_count": 4,
   "id": "732d0279-0021-4650-8011-547315b82c24",
   "metadata": {},
   "outputs": [
    {
     "data": {
      "text/plain": [
       "str"
      ]
     },
     "execution_count": 4,
     "metadata": {},
     "output_type": "execute_result"
    }
   ],
   "source": [
    "#String with triple quotes (multi-line string)\n",
    "s3='''Python is a\n",
    "programming language'''\n",
    "type(s3)"
   ]
  },
  {
   "cell_type": "code",
   "execution_count": 5,
   "id": "c8fb3d37-4620-4528-a03b-8d7f804f2b4e",
   "metadata": {},
   "outputs": [
    {
     "data": {
      "text/plain": [
       "'HelloWorld'"
      ]
     },
     "execution_count": 5,
     "metadata": {},
     "output_type": "execute_result"
    }
   ],
   "source": [
    "#Concantination\n",
    "s3=s1+s2\n",
    "s3"
   ]
  },
  {
   "cell_type": "code",
   "execution_count": 6,
   "id": "1333fdad-0ab3-4598-a750-4b09566585d6",
   "metadata": {},
   "outputs": [
    {
     "data": {
      "text/plain": [
       "'Hello World'"
      ]
     },
     "execution_count": 6,
     "metadata": {},
     "output_type": "execute_result"
    }
   ],
   "source": [
    "#Adding space in between s1 and s2\n",
    "s5=s1+' '+s2\n",
    "s5"
   ]
  },
  {
   "cell_type": "code",
   "execution_count": 7,
   "id": "02ef61c1-4ab9-46e8-8b18-f418cf517502",
   "metadata": {},
   "outputs": [
    {
     "data": {
      "text/plain": [
       "11"
      ]
     },
     "execution_count": 7,
     "metadata": {},
     "output_type": "execute_result"
    }
   ],
   "source": [
    "#Determining the length of s5\n",
    "len(s5)"
   ]
  },
  {
   "cell_type": "code",
   "execution_count": 8,
   "id": "a1fa0e2b-5f51-4486-a62b-faa7dfe9bcf1",
   "metadata": {},
   "outputs": [
    {
     "data": {
      "text/plain": [
       "'H'"
      ]
     },
     "execution_count": 8,
     "metadata": {},
     "output_type": "execute_result"
    }
   ],
   "source": [
    "#Accessing the characters via Indexing\n",
    "s5[0]"
   ]
  },
  {
   "cell_type": "code",
   "execution_count": 9,
   "id": "07b9f063-42db-4c4b-9b73-04abb3025358",
   "metadata": {},
   "outputs": [
    {
     "data": {
      "text/plain": [
       "'d'"
      ]
     },
     "execution_count": 9,
     "metadata": {},
     "output_type": "execute_result"
    }
   ],
   "source": [
    "s5[10]"
   ]
  },
  {
   "cell_type": "code",
   "execution_count": 10,
   "id": "b99afd42-be9d-4f47-8f8c-0e5bde3afdda",
   "metadata": {},
   "outputs": [
    {
     "data": {
      "text/plain": [
       "'llo Wo'"
      ]
     },
     "execution_count": 10,
     "metadata": {},
     "output_type": "execute_result"
    }
   ],
   "source": [
    "#Slicing a String\n",
    "s5[2:8]"
   ]
  },
  {
   "cell_type": "code",
   "execution_count": 11,
   "id": "9a9e373a-cf4d-48ae-a1c2-22f432e7f902",
   "metadata": {},
   "outputs": [
    {
     "data": {
      "text/plain": [
       "'Hello WorldHello WorldHello World'"
      ]
     },
     "execution_count": 11,
     "metadata": {},
     "output_type": "execute_result"
    }
   ],
   "source": [
    "#Duplication of String\n",
    "s5*3"
   ]
  },
  {
   "cell_type": "code",
   "execution_count": 12,
   "id": "8666f665-d370-4c00-993a-9dee7dea5c13",
   "metadata": {},
   "outputs": [
    {
     "data": {
      "text/plain": [
       "True"
      ]
     },
     "execution_count": 12,
     "metadata": {},
     "output_type": "execute_result"
    }
   ],
   "source": [
    "#Checking substring in mainstring\n",
    "'World' in s5"
   ]
  },
  {
   "cell_type": "code",
   "execution_count": 13,
   "id": "1caf56d8-7f72-4af1-bbbd-2174e475d0c2",
   "metadata": {},
   "outputs": [
    {
     "data": {
      "text/plain": [
       "False"
      ]
     },
     "execution_count": 13,
     "metadata": {},
     "output_type": "execute_result"
    }
   ],
   "source": [
    "'Abhinava' in s5"
   ]
  },
  {
   "cell_type": "code",
   "execution_count": 14,
   "id": "10aa878a-89fe-40cd-be58-504afe7576fd",
   "metadata": {},
   "outputs": [
    {
     "data": {
      "text/plain": [
       "False"
      ]
     },
     "execution_count": 14,
     "metadata": {},
     "output_type": "execute_result"
    }
   ],
   "source": [
    "'World' not in s5"
   ]
  },
  {
   "cell_type": "code",
   "execution_count": 15,
   "id": "de29a13f-8970-4c8e-839e-6ba7f016ea6c",
   "metadata": {},
   "outputs": [
    {
     "data": {
      "text/plain": [
       "'HELLO WORLD'"
      ]
     },
     "execution_count": 15,
     "metadata": {},
     "output_type": "execute_result"
    }
   ],
   "source": [
    "#Changing to UPPERCASE\n",
    "s5.upper()"
   ]
  },
  {
   "cell_type": "code",
   "execution_count": 16,
   "id": "6caf41cd-6ec6-4ad5-9ed4-57883ffb0cc8",
   "metadata": {},
   "outputs": [
    {
     "data": {
      "text/plain": [
       "'hello world'"
      ]
     },
     "execution_count": 16,
     "metadata": {},
     "output_type": "execute_result"
    }
   ],
   "source": [
    "#Changing to LOWERCASE\n",
    "s5.lower()\n"
   ]
  },
  {
   "cell_type": "code",
   "execution_count": 17,
   "id": "ea8c5730-560f-4df5-86ae-330c13fe7f98",
   "metadata": {},
   "outputs": [
    {
     "data": {
      "text/plain": [
       "'Hello world'"
      ]
     },
     "execution_count": 17,
     "metadata": {},
     "output_type": "execute_result"
    }
   ],
   "source": [
    "#Changing to UPPERCASE using the function capitalize\n",
    "s5.capitalize()"
   ]
  },
  {
   "cell_type": "code",
   "execution_count": 18,
   "id": "345da7e7-7b8a-4a77-b31d-442df5ddbf38",
   "metadata": {},
   "outputs": [
    {
     "data": {
      "text/plain": [
       "'Hello World'"
      ]
     },
     "execution_count": 18,
     "metadata": {},
     "output_type": "execute_result"
    }
   ],
   "source": [
    "#Changing the case using the function title\n",
    "s5.title()"
   ]
  },
  {
   "cell_type": "code",
   "execution_count": 19,
   "id": "0e68b70c-d89f-4c71-918e-8bc601d58f3e",
   "metadata": {},
   "outputs": [
    {
     "data": {
      "text/plain": [
       "'Hello Python'"
      ]
     },
     "execution_count": 19,
     "metadata": {},
     "output_type": "execute_result"
    }
   ],
   "source": [
    "#Replacing a word using replace function\n",
    "s5.replace('World','Python')"
   ]
  },
  {
   "cell_type": "code",
   "execution_count": null,
   "id": "c2c2f9cb-1ca1-4348-bf26-34f8711d83e2",
   "metadata": {},
   "outputs": [],
   "source": []
  }
 ],
 "metadata": {
  "kernelspec": {
   "display_name": "Python [conda env:base] *",
   "language": "python",
   "name": "conda-base-py"
  },
  "language_info": {
   "codemirror_mode": {
    "name": "ipython",
    "version": 3
   },
   "file_extension": ".py",
   "mimetype": "text/x-python",
   "name": "python",
   "nbconvert_exporter": "python",
   "pygments_lexer": "ipython3",
   "version": "3.13.5"
  }
 },
 "nbformat": 4,
 "nbformat_minor": 5
}
